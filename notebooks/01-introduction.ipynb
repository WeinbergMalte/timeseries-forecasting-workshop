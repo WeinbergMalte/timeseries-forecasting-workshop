{
 "cells": [
  {
   "attachments": {},
   "cell_type": "markdown",
   "id": "a8c4c68a",
   "metadata": {},
   "source": [
    "### Time Series Workshop \n",
    "# 1. Introduction &#x1F60E;"
   ]
  },
  {
   "cell_type": "code",
   "execution_count": null,
   "id": "68a7ce28",
   "metadata": {},
   "outputs": [],
   "source": [
    "%config InlineBackend.figure_format='retina'\n",
    "%load_ext autoreload\n",
    "%autoreload 2\n",
    "\n",
    "from pathlib import Path\n",
    "\n",
    "import matplotlib.pyplot as plt\n",
    "\n",
    "from timeseries.data import load_sunspots\n",
    "\n",
    "DATA_DIR = Path(\"..\") / Path(\"data\")"
   ]
  },
  {
   "attachments": {},
   "cell_type": "markdown",
   "id": "c55bdd05",
   "metadata": {},
   "source": [
    "## What are time series?\n",
    "* Time series are data points indexed in time order.\n",
    "* Time series data are a collection of observations obtained through repeated measurements over time.\n",
    "\n",
    "## Example: Sunspot Data\n",
    "* Monthly counts of sunspots from mit 18th century to present\n",
    "* Univariate time series\n",
    "* Strong periodicity of 11 year cycle (actually 22y)\n",
    "* No dominant trend"
   ]
  },
  {
   "cell_type": "code",
   "execution_count": null,
   "id": "5b6bd6f3",
   "metadata": {
    "tags": []
   },
   "outputs": [],
   "source": [
    "df = load_sunspots(DATA_DIR / Path(\"sunspots.csv\"))\n",
    "\n",
    "_, ax = plt.subplots(1, 1, figsize=(12, 3))\n",
    "_ = df.plot(ax=ax)\n",
    "df.head()"
   ]
  },
  {
   "attachments": {},
   "cell_type": "markdown",
   "id": "18a4fa50",
   "metadata": {},
   "source": [
    "Source: [wikipedia.org/Sunspot](https://en.wikipedia.org/wiki/Sunspot)\n",
    "\n",
    "<img src=\"../images/sunspot.gif\" width=\"100\">\n"
   ]
  },
  {
   "cell_type": "markdown",
   "id": "fe8630d7",
   "metadata": {},
   "source": [
    "\n",
    "## What is forecasting?\n",
    "* Predicting future values of a time series through values and events in the past and present, e.g.\n",
    "\n",
    "## Forecasting vs. supervised machine learning\n",
    "#### Supervised learning &#x1F440; \n",
    "* We know the values of predictor variables &#x2705; \n",
    "* We assume that future data looks the same as past data &#x2705; \n",
    "#### Forecasting &#x1F4C8; \n",
    "* We often don't know the values of predictor variables &#x274C;\n",
    "* Sometimes we don't even have predictors &#x274C;\n",
    "* Time series are dynamic: distributions change! &#x274C;\n",
    "\n"
   ]
  },
  {
   "attachments": {},
   "cell_type": "markdown",
   "id": "5650e81c",
   "metadata": {},
   "source": [
    "## Forecasting modelling approach\n",
    "```mermaid\n",
    "graph TD\n",
    "Z(Forecasting) --> A(Specialised<br/>models)\n",
    "Z(Forecasting) --> B(Off-the-shelf<br/>algorithms)\n",
    "A --> C(Exponential smoothing,<br/>ARIMA)\n",
    "A --> D(Prophet)\n",
    "A --> E(Recursive NNs)\n",
    "A --> EE(...)\n",
    "B --> F(Linear regression)\n",
    "B --> G(Decision trees)\n",
    "B --> H(...)\n",
    "```"
   ]
  },
  {
   "cell_type": "code",
   "execution_count": null,
   "id": "58fafa64",
   "metadata": {},
   "outputs": [],
   "source": [
    "from sktime.forecasting.base import ForecastingHorizon\n",
    "from sktime.forecasting.naive import NaiveForecaster\n",
    "\n",
    "SPLIT_DATE = \"1966-01-01\"\n",
    "\n",
    "df_train = df[df.index < SPLIT_DATE]\n",
    "df_test = df[df.index >= SPLIT_DATE]\n",
    "\n",
    "model = NaiveForecaster(strategy=\"mean\", window_length=12 * 11 * 2, sp=12 * 11)\n",
    "model.fit(df_train)\n",
    "\n",
    "df_pred = model.predict(ForecastingHorizon(df_test.index, is_relative=False))\n",
    "\n",
    "_, ax = plt.subplots(1, 1, figsize=(12, 3))\n",
    "_ = df_train.plot(ax=ax)\n",
    "_ = df_test.plot(ax=ax)\n",
    "_ = df_pred.plot(ax=ax)\n",
    "_ = plt.legend([\"train\", \"test\", \"pred\"])"
   ]
  },
  {
   "attachments": {},
   "cell_type": "markdown",
   "id": "0fd38ea8",
   "metadata": {},
   "source": [
    "## Before we get started: A warning about Jupyter &#x1F974; \n",
    "\n",
    "Throughout the workshop, we'll work with Jupyter notebooks. These are the de-facto standard for explorative work in data science\n",
    "\n",
    "They are also highly controversial. Why's that?\n",
    "\n",
    "One simple reason: \n",
    "\n",
    "- Code cells can be executed in any order. This can lead to a lot of confusion when jumping around the noteboook. \n",
    "\n",
    "So, one thing to look out for first:\n",
    " \n",
    "- Always make your notebook cells **idempotent**! \n",
    "- No matter how many times you execute them, you achieve the same result!\n",
    "\n",
    "You'll save yourselves a lot of headaches! "
   ]
  },
  {
   "cell_type": "code",
   "execution_count": null,
   "id": "8bed66a3-e263-4ba0-ae5e-2a07c877b18a",
   "metadata": {},
   "outputs": [],
   "source": []
  }
 ],
 "metadata": {
  "kernelspec": {
   "display_name": "timeseries",
   "language": "python",
   "name": "python3"
  },
  "language_info": {
   "codemirror_mode": {
    "name": "ipython",
    "version": 3
   },
   "file_extension": ".py",
   "mimetype": "text/x-python",
   "name": "python",
   "nbconvert_exporter": "python",
   "pygments_lexer": "ipython3",
   "version": "3.11.12"
  }
 },
 "nbformat": 4,
 "nbformat_minor": 5
}
