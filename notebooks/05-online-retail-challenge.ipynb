{
 "cells": [
  {
   "attachments": {},
   "cell_type": "markdown",
   "id": "276b8768",
   "metadata": {},
   "source": [
    "### Time Series Workshop \n",
    "# 5. Online Retail &#x1F4B0;: Forecasting Challenge\n",
    "\n",
    "Now it's your turn! \n",
    "\n",
    "Here, we provide some guard rails to get you started. Try to\n",
    "- explore the data\n",
    "- Apply previously discussed techniques for pre-processing and feature engineering\n",
    "- Forecast the next months sales for a pre-defined test set\n",
    "- Evaluate the quality of your forecast"
   ]
  },
  {
   "cell_type": "code",
   "execution_count": 17,
   "id": "68a7ce28",
   "metadata": {},
   "outputs": [
    {
     "name": "stdout",
     "output_type": "stream",
     "text": [
      "The autoreload extension is already loaded. To reload it, use:\n",
      "  %reload_ext autoreload\n"
     ]
    }
   ],
   "source": [
    "%config InlineBackend.figure_format='retina'\n",
    "%load_ext autoreload\n",
    "%autoreload 2\n",
    "\n",
    "import pandas as pd\n",
    "import numpy as np\n",
    "import matplotlib.pyplot as plt\n",
    "from pathlib import Path\n",
    "from feature_engine.creation import CyclicalFeatures\n",
    "from sklearn.linear_model import Lasso\n",
    "from sklearn.ensemble import RandomForestRegressor\n",
    "from sklearn.pipeline import Pipeline\n",
    "\n",
    "from timeseries.data import load_retail\n",
    "from timeseries.utils import print_metrics\n",
    "\n",
    "DATA_DIR = Path(\"..\") / Path(\"data\")"
   ]
  },
  {
   "attachments": {},
   "cell_type": "markdown",
   "id": "b0b20482",
   "metadata": {},
   "source": [
    "## Load data"
   ]
  },
  {
   "cell_type": "code",
   "execution_count": 23,
   "id": "64d9a558",
   "metadata": {},
   "outputs": [
    {
     "data": {
      "text/html": [
       "<div>\n",
       "<style scoped>\n",
       "    .dataframe tbody tr th:only-of-type {\n",
       "        vertical-align: middle;\n",
       "    }\n",
       "\n",
       "    .dataframe tbody tr th {\n",
       "        vertical-align: top;\n",
       "    }\n",
       "\n",
       "    .dataframe thead th {\n",
       "        text-align: right;\n",
       "    }\n",
       "</style>\n",
       "<table border=\"1\" class=\"dataframe\">\n",
       "  <thead>\n",
       "    <tr style=\"text-align: right;\">\n",
       "      <th></th>\n",
       "      <th>sales</th>\n",
       "    </tr>\n",
       "    <tr>\n",
       "      <th>month</th>\n",
       "      <th></th>\n",
       "    </tr>\n",
       "  </thead>\n",
       "  <tbody>\n",
       "    <tr>\n",
       "      <th>1992-01-01</th>\n",
       "      <td>146376</td>\n",
       "    </tr>\n",
       "    <tr>\n",
       "      <th>1992-02-01</th>\n",
       "      <td>147079</td>\n",
       "    </tr>\n",
       "    <tr>\n",
       "      <th>1992-03-01</th>\n",
       "      <td>159336</td>\n",
       "    </tr>\n",
       "    <tr>\n",
       "      <th>1992-04-01</th>\n",
       "      <td>163669</td>\n",
       "    </tr>\n",
       "    <tr>\n",
       "      <th>1992-05-01</th>\n",
       "      <td>170068</td>\n",
       "    </tr>\n",
       "  </tbody>\n",
       "</table>\n",
       "</div>"
      ],
      "text/plain": [
       "             sales\n",
       "month             \n",
       "1992-01-01  146376\n",
       "1992-02-01  147079\n",
       "1992-03-01  159336\n",
       "1992-04-01  163669\n",
       "1992-05-01  170068"
      ]
     },
     "execution_count": 23,
     "metadata": {},
     "output_type": "execute_result"
    }
   ],
   "source": [
    "TARGET_COL = \"sales\"\n",
    "SPLIT_DATE = \"2011-09-30\"\n",
    "FILE_PATH = DATA_DIR / \"online_retail.csv\"\n",
    "\n",
    "df_in = load_retail(FILE_PATH)\n",
    "df_in.head()"
   ]
  },
  {
   "attachments": {},
   "cell_type": "markdown",
   "id": "7ed895de",
   "metadata": {},
   "source": [
    "## Analyze data\n",
    "- Make yourselves familiar with the data. Here be dragons: There's a pitfall we haven't discussed yet, harhar. &#x1F60F;\n",
    "- Do we have missing data?\n",
    "- Can we see some obvious seasonal pattern? If so, what could be the reason for this?\n",
    "- What else is peculiar about this data set?"
   ]
  },
  {
   "cell_type": "code",
   "execution_count": 19,
   "id": "e7f1c22f",
   "metadata": {},
   "outputs": [
    {
     "data": {
      "text/plain": [
       "Ellipsis"
      ]
     },
     "execution_count": 19,
     "metadata": {},
     "output_type": "execute_result"
    }
   ],
   "source": [
    "..."
   ]
  },
  {
   "attachments": {},
   "cell_type": "markdown",
   "id": "af8f11f0",
   "metadata": {},
   "source": [
    "- How to deal with the trend? -> Seasonal decomposition!"
   ]
  },
  {
   "cell_type": "code",
   "execution_count": null,
   "id": "9f6358cd",
   "metadata": {},
   "outputs": [],
   "source": [
    "from statsmodels.tsa.seasonal import seasonal_decompose\n",
    "\n",
    "result = seasonal_decompose(..., model='additive')\n",
    "fig = result.plot()\n",
    "_ = fig.set_size_inches(15, 12)\n",
    "_ = plt.tight_layout()"
   ]
  },
  {
   "attachments": {},
   "cell_type": "markdown",
   "id": "f533a620",
   "metadata": {},
   "source": [
    "## Feature engineering\n",
    "- Create some features that you think might be useful for forecasting\n",
    "- Do we need to do some more pre-processing?"
   ]
  },
  {
   "cell_type": "code",
   "execution_count": 20,
   "id": "8b44e670",
   "metadata": {},
   "outputs": [
    {
     "data": {
      "text/plain": [
       "Ellipsis"
      ]
     },
     "execution_count": 20,
     "metadata": {},
     "output_type": "execute_result"
    }
   ],
   "source": [
    "..."
   ]
  },
  {
   "attachments": {},
   "cell_type": "markdown",
   "id": "60fc9f8a",
   "metadata": {},
   "source": [
    "## Train-test split\n",
    "- Split the data into train- and test sets according to the SPLIT_DATE parameter defined above\n"
   ]
  },
  {
   "cell_type": "code",
   "execution_count": 21,
   "id": "71ac3b11",
   "metadata": {},
   "outputs": [
    {
     "data": {
      "text/plain": [
       "Ellipsis"
      ]
     },
     "execution_count": 21,
     "metadata": {},
     "output_type": "execute_result"
    }
   ],
   "source": [
    "..."
   ]
  },
  {
   "attachments": {},
   "cell_type": "markdown",
   "id": "8fc89b35",
   "metadata": {},
   "source": [
    "## Build models and forecast!\n",
    "- Fit the processed training data \n",
    "- Predict for the test set\n",
    "- Calculate the usual metrics\n",
    "  - How good is your forecast? Compare a naive baseline model with something more sophisticated.\n",
    "  - What metric is the most appropriate here?\n",
    "  - Can you manage to beat my own forecast? (We will have a little competition here) &#x1F6A8;\n",
    "\n",
    "Good luck!"
   ]
  },
  {
   "cell_type": "code",
   "execution_count": 22,
   "id": "0bfcfe1f",
   "metadata": {},
   "outputs": [
    {
     "data": {
      "text/plain": [
       "Ellipsis"
      ]
     },
     "execution_count": 22,
     "metadata": {},
     "output_type": "execute_result"
    }
   ],
   "source": [
    "..."
   ]
  },
  {
   "cell_type": "code",
   "execution_count": null,
   "id": "5c7b7f96",
   "metadata": {},
   "outputs": [],
   "source": []
  }
 ],
 "metadata": {
  "kernelspec": {
   "display_name": "Python 3 (ipykernel)",
   "language": "python",
   "name": "python3"
  },
  "language_info": {
   "codemirror_mode": {
    "name": "ipython",
    "version": 3
   },
   "file_extension": ".py",
   "mimetype": "text/x-python",
   "name": "python",
   "nbconvert_exporter": "python",
   "pygments_lexer": "ipython3",
   "version": "3.9.16"
  }
 },
 "nbformat": 4,
 "nbformat_minor": 5
}
