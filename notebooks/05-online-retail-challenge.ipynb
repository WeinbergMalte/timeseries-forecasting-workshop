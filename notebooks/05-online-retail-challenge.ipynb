{
 "cells": [
  {
   "attachments": {},
   "cell_type": "markdown",
   "id": "276b8768",
   "metadata": {},
   "source": [
    "### Time Series Workshop \n",
    "# 5. Online Retail &#x1F4B0;: Forecasting Challenge\n",
    "\n",
    "Now it's your turn! \n",
    "\n",
    "Here, we provide some guard rails to get you started. Try to\n",
    "- explore the data\n",
    "- Apply previously discussed techniques for pre-processing and feature engineering\n",
    "- Forecast the next months sales for a pre-defined test set\n",
    "- Evaluate the quality of your forecast"
   ]
  },
  {
   "cell_type": "code",
   "execution_count": null,
   "id": "68a7ce28",
   "metadata": {},
   "outputs": [],
   "source": [
    "%config InlineBackend.figure_format='retina'\n",
    "%load_ext autoreload\n",
    "%autoreload 2\n",
    "\n",
    "from pathlib import Path\n",
    "\n",
    "import matplotlib.pyplot as plt\n",
    "\n",
    "from timeseries.data import load_retail\n",
    "\n",
    "DATA_DIR = Path(\"..\") / Path(\"data\")"
   ]
  },
  {
   "attachments": {},
   "cell_type": "markdown",
   "id": "b0b20482",
   "metadata": {},
   "source": [
    "## Load data"
   ]
  },
  {
   "cell_type": "code",
   "execution_count": null,
   "id": "64d9a558",
   "metadata": {},
   "outputs": [],
   "source": [
    "TARGET_COL = \"sales\"\n",
    "SPLIT_DATE = \"2011-09-30\"\n",
    "FILE_PATH = DATA_DIR / \"online_retail.csv\"\n",
    "\n",
    "df_in = load_retail(FILE_PATH)\n",
    "df_in.head()"
   ]
  },
  {
   "attachments": {},
   "cell_type": "markdown",
   "id": "7ed895de",
   "metadata": {},
   "source": [
    "## Analyze data\n",
    "- Make yourselves familiar with the data. Here be dragons: There's a pitfall we haven't discussed yet, harhar. &#x1F60F;\n",
    "- Do we have missing data?\n",
    "- Can we see some obvious seasonal pattern? If so, what could be the reason for this?\n",
    "- What else is peculiar about this data set?"
   ]
  },
  {
   "cell_type": "code",
   "execution_count": null,
   "id": "e7f1c22f",
   "metadata": {},
   "outputs": [],
   "source": [
    "..."
   ]
  },
  {
   "attachments": {},
   "cell_type": "markdown",
   "id": "af8f11f0",
   "metadata": {},
   "source": [
    "- How to deal with the trend? -> Seasonal decomposition!"
   ]
  },
  {
   "cell_type": "code",
   "execution_count": null,
   "id": "9f6358cd",
   "metadata": {},
   "outputs": [],
   "source": [
    "from statsmodels.tsa.seasonal import seasonal_decompose\n",
    "\n",
    "result = seasonal_decompose(..., model=\"additive\")\n",
    "fig = result.plot()\n",
    "_ = fig.set_size_inches(15, 12)\n",
    "_ = plt.tight_layout()"
   ]
  },
  {
   "attachments": {},
   "cell_type": "markdown",
   "id": "f533a620",
   "metadata": {},
   "source": [
    "## Feature engineering\n",
    "- Create some features that you think might be useful for forecasting\n",
    "- Do we need to do some more pre-processing?"
   ]
  },
  {
   "cell_type": "code",
   "execution_count": null,
   "id": "8b44e670",
   "metadata": {},
   "outputs": [],
   "source": [
    "..."
   ]
  },
  {
   "attachments": {},
   "cell_type": "markdown",
   "id": "60fc9f8a",
   "metadata": {},
   "source": [
    "## Train-test split\n",
    "- Split the data into train- and test sets according to the SPLIT_DATE parameter defined above\n"
   ]
  },
  {
   "cell_type": "code",
   "execution_count": null,
   "id": "71ac3b11",
   "metadata": {},
   "outputs": [],
   "source": [
    "..."
   ]
  },
  {
   "attachments": {},
   "cell_type": "markdown",
   "id": "8fc89b35",
   "metadata": {},
   "source": [
    "## Build models and forecast!\n",
    "- Fit the processed training data \n",
    "- Predict for the test set\n",
    "- Calculate the usual metrics\n",
    "  - How good is your forecast? Compare a naive baseline model with something more sophisticated.\n",
    "  - What metric is the most appropriate here?\n",
    "  - Can you manage to beat my own forecast? (We will have a little competition here) &#x1F6A8;\n",
    "\n",
    "Good luck!"
   ]
  },
  {
   "cell_type": "code",
   "execution_count": null,
   "id": "0bfcfe1f",
   "metadata": {},
   "outputs": [],
   "source": [
    "..."
   ]
  },
  {
   "cell_type": "code",
   "execution_count": null,
   "id": "5c7b7f96",
   "metadata": {},
   "outputs": [],
   "source": []
  }
 ],
 "metadata": {
  "kernelspec": {
   "display_name": "Python 3 (ipykernel)",
   "language": "python",
   "name": "python3"
  },
  "language_info": {
   "codemirror_mode": {
    "name": "ipython",
    "version": 3
   },
   "file_extension": ".py",
   "mimetype": "text/x-python",
   "name": "python",
   "nbconvert_exporter": "python",
   "pygments_lexer": "ipython3",
   "version": "3.9.16"
  }
 },
 "nbformat": 4,
 "nbformat_minor": 5
}
