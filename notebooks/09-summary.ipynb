{
 "cells": [
  {
   "attachments": {},
   "cell_type": "markdown",
   "id": "276b8768",
   "metadata": {},
   "source": [
    "### Time Series Workshop \n",
    "# 9. Summary!\n",
    "\n",
    "## What we (might have) learned today &#x1F913;\n",
    "- Time series are everywhere\n",
    "- They're a bit peculiar and require special treatment\n",
    "- We can do time series forecasting with a wide variety of machine learning techniques\n",
    "\n",
    "## Where we maybe scratched the surface &#x1F914;\n",
    "- Good old fashioned feature engineering\n",
    "- Time series decomposition\n",
    "- Multi-step ahead forecasting\n",
    "\n",
    "## What we didn't cover &#x1FAE3;\n",
    "- Backtesting: Thorough model evaluation on historical data with\n",
    "  - Rolling window\n",
    "  - Expanding window\n",
    "- Hyperparameter tuning\n",
    "- Some tried-and-tested stuff like autoregressive models, ARIMA, SARIMA, ... you name it.\n",
    "- The stuff I would often use in production for multiple multi-variate multi-step time series forecasting problems: A strong gradient boosted decision tree model like LightGBM wrapped in some custom made recursive estimator.\n",
    "- Uncertainty estimation, i.e. confidence intervals\n",
    "- Some more advanced stuff like recurrent neural networks:\n",
    "  - LSTMs\n",
    "  - The new real deal that can do it all: Temporal Fusion Transformers!\n",
    "- ...\n",
    "- And so much more &#x1F605;\n",
    "\n",
    "\n",
    "## That's it. Don't forget to stop your codespace! &#x2705;\n"
   ]
  },
  {
   "cell_type": "code",
   "execution_count": null,
   "id": "32cf1e5f",
   "metadata": {},
   "outputs": [],
   "source": []
  },
  {
   "cell_type": "code",
   "execution_count": null,
   "id": "28873498",
   "metadata": {},
   "outputs": [],
   "source": []
  }
 ],
 "metadata": {
  "kernelspec": {
   "display_name": "Python 3 (ipykernel)",
   "language": "python",
   "name": "python3"
  },
  "language_info": {
   "codemirror_mode": {
    "name": "ipython",
    "version": 3
   },
   "file_extension": ".py",
   "mimetype": "text/x-python",
   "name": "python",
   "nbconvert_exporter": "python",
   "pygments_lexer": "ipython3",
   "version": "3.9.16"
  }
 },
 "nbformat": 4,
 "nbformat_minor": 5
}
