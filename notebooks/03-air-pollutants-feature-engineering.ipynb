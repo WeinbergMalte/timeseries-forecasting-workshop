{
 "cells": [
  {
   "attachments": {},
   "cell_type": "markdown",
   "id": "276b8768",
   "metadata": {},
   "source": [
    "### Time Series Workshop \n",
    "# 3. Air Pollutants &#x1F525;: Feature Engineering\n",
    "\n",
    "In this notebook, we will continue to work with our well known air-pollutants data set and introduce common feature engineering techniques for time series forecasting."
   ]
  },
  {
   "cell_type": "code",
   "execution_count": null,
   "id": "68a7ce28",
   "metadata": {},
   "outputs": [],
   "source": [
    "%config InlineBackend.figure_format='retina'\n",
    "%load_ext autoreload\n",
    "%autoreload 2\n",
    "\n",
    "import pandas as pd\n",
    "import numpy as np\n",
    "import matplotlib.pyplot as plt\n",
    "from pathlib import Path\n",
    "from timeseries.data import load_air_quality\n",
    "from feature_engine.creation import CyclicalFeatures\n",
    "\n",
    "DATA_DIR = Path(\"..\") / Path(\"data\")"
   ]
  },
  {
   "attachments": {},
   "cell_type": "markdown",
   "id": "b0b20482",
   "metadata": {},
   "source": [
    "## Load and process data"
   ]
  },
  {
   "cell_type": "code",
   "execution_count": null,
   "id": "78d5a69c",
   "metadata": {},
   "outputs": [],
   "source": [
    "FILE_PATH = DATA_DIR / \"air_quality.csv\"\n",
    "variables = [\"co_sensor\", \"humidity\"]\n",
    "\n",
    "df_in = load_air_quality(FILE_PATH)[variables]\n",
    "for var in variables:\n",
    "    df_in = df_in[df_in[var] >= 0]\n",
    "\n",
    "df_in.head()"
   ]
  },
  {
   "attachments": {},
   "cell_type": "markdown",
   "id": "809778b1",
   "metadata": {},
   "source": [
    "## Time related features"
   ]
  },
  {
   "cell_type": "code",
   "execution_count": null,
   "id": "f214f9ed",
   "metadata": {},
   "outputs": [],
   "source": [
    "df = df_in.copy()\n",
    "\n",
    "df[\"month\"] = df.index.month\n",
    "df[\"week\"] = df.index.isocalendar().week\n",
    "df[\"day\"] = df.index.day\n",
    "df[\"day_of_week\"] = df.index.day_of_week\n",
    "df[\"hour\"] = df.index.hour\n",
    "df[\"is_weekend\"] = np.where(df[\"day_of_week\"] > 4, 1, 0)\n",
    "df.head()"
   ]
  },
  {
   "attachments": {},
   "cell_type": "markdown",
   "id": "dc225fec",
   "metadata": {},
   "source": [
    "## Lag features\n",
    "Lag features are past values of the variable that we can use to predict future values.\n",
    "\n",
    "Here, we will use the following lag features to predict the next hour's pollutant concentration:\n",
    "- The pollutant concentration for the previous three hours (t-1, t-2, t-3).\n",
    "- The pollutant concentration for the same hour on the previous day (t-24).\n",
    "\n",
    "The reasoning behind this is that pollutant concentrations do not change quickly and, as previously demonstrated, have a 24-hour seasonality."
   ]
  },
  {
   "cell_type": "code",
   "execution_count": null,
   "id": "37e52dd1",
   "metadata": {},
   "outputs": [],
   "source": [
    "df_processed_0 = df.copy()\n",
    "\n",
    "for var in variables:\n",
    "    for h in [1, 2, 3, 24]:\n",
    "        tmp = df_processed_0[[var]].shift(freq=f\"{h}H\")\n",
    "        tmp.columns = [f\"{var}_lag_{h}\"]\n",
    "        df_processed_0 = df_processed_0.merge(\n",
    "            tmp, left_index=True, right_index=True, how=\"left\"\n",
    "        )\n",
    "\n",
    "\n",
    "df_processed_0.head()"
   ]
  },
  {
   "cell_type": "code",
   "execution_count": null,
   "id": "285698a1",
   "metadata": {},
   "outputs": [],
   "source": [
    "# Sanity check for the first 3 hour lags:\n",
    "df_processed_0[\n",
    "    [\"co_sensor\", \"co_sensor_lag_1\", \"co_sensor_lag_2\", \"co_sensor_lag_3\"]\n",
    "].head()"
   ]
  },
  {
   "cell_type": "code",
   "execution_count": null,
   "id": "735e42f7",
   "metadata": {},
   "outputs": [],
   "source": [
    "# Sanity check for the 24 hour lag:\n",
    "df_processed_0[[\"co_sensor\", \"co_sensor_lag_24\"]].head(26)"
   ]
  },
  {
   "attachments": {},
   "cell_type": "markdown",
   "id": "1f3c40e2",
   "metadata": {},
   "source": [
    "## Window Features\n",
    "Window features use some form of aggregation of the features' values over a pre-defined time window of a variable as predictors for the current value.\n",
    "\n",
    "Here, we will\n",
    "- Use a rolling window of 5 hours \n",
    "- Compute the mean, min, and max values of our variables within this window\n",
    "- Shift the window forward to serve as predictors for the next hour"
   ]
  },
  {
   "cell_type": "code",
   "execution_count": null,
   "id": "e359c295",
   "metadata": {},
   "outputs": [],
   "source": [
    "tmp = (\n",
    "    df_processed_0[variables]\n",
    "    .rolling(window=\"5H\")\n",
    "    .agg(\n",
    "        [\"mean\", \"min\", \"max\", \"std\"]\n",
    "    )  # Aggregate functions over the span of the window\n",
    "    .shift(freq=\"1H\")  # Move the average 1 hour forward\n",
    ")\n",
    "\n",
    "tmp.columns = tmp.columns.map(\"_win_\".join)\n",
    "tmp.head()\n",
    "\n",
    "df_processed_1 = df_processed_0.copy().merge(\n",
    "    tmp, left_index=True, right_index=True, how=\"left\"\n",
    ")\n",
    "df_processed_1.head()"
   ]
  },
  {
   "attachments": {},
   "cell_type": "markdown",
   "id": "75d8b3ee",
   "metadata": {},
   "source": [
    "## Periodic Features\n",
    "\n",
    "Time-based features are inherently periodic. For example\n",
    "- Months: 1 -> 2 -> ... -> 12 -> 1 -> ...\n",
    "- Week days: 1 -> 2 -> ... -> 7 -> 1 -> ...\n",
    "\n",
    "and so on.\n",
    "\n",
    "While some models can capture this periodicity without any difficulty (hint: decision trees!), others cannot. Thus, additional processing can be very beneficial for the model performance.\n",
    "\n",
    "We can encode periodic features using a sine and cosine transformation with the feature's period. This will cause the values of the features that are far apart to come closer. For example, December (12) is closer to January (1) than June (6). This relationship is not captured by the numerical representation of these features. But we could change it, if we transformed these variables with sine and cosine.\n",
    "\n",
    "While this can, of course, be done with some short calcluations, we'll resort to some ready made transformers from the `feature_engine` package here."
   ]
  },
  {
   "cell_type": "code",
   "execution_count": null,
   "id": "b2f7cd8e",
   "metadata": {},
   "outputs": [],
   "source": [
    "time_vars = [\"month\", \"hour\"]\n",
    "\n",
    "cyclical = CyclicalFeatures(\n",
    "    variables=time_vars,  # The features we want to transform.\n",
    "    drop_original=False,  # Whether to drop the original features.\n",
    ")\n",
    "\n",
    "df_processed_2 = cyclical.fit_transform(df_processed_1)\n",
    "df_processed_2.head()"
   ]
  },
  {
   "cell_type": "code",
   "execution_count": null,
   "id": "ce259010",
   "metadata": {},
   "outputs": [],
   "source": [
    "_, axs = plt.subplots(1, 2, figsize=(12, 3))\n",
    "_ = df_processed_2[[\"month_sin\", \"month_cos\"]].plot(marker=\".\", ax=axs[0])\n",
    "_ = df_processed_2[\"2005-03-15\":][[\"hour_sin\", \"hour_cos\"]].plot(ax=axs[1])"
   ]
  },
  {
   "attachments": {},
   "cell_type": "markdown",
   "id": "3afef3b4",
   "metadata": {},
   "source": [
    "# Remove missing data and export\n",
    "- With the lag and window calculations we have introduced a bunch of missing data. \n",
    "- These aren't too many though, so we'll simply remove them.\n",
    "- Finally, we'll also remove the original \"humidity\" feature as we want to predict the carbon monoxide concentration from the humidity (which we assume we don't know at the time of prediction)"
   ]
  },
  {
   "cell_type": "code",
   "execution_count": null,
   "id": "e2e15b77",
   "metadata": {},
   "outputs": [],
   "source": [
    "df_processed_2.isnull().sum()"
   ]
  },
  {
   "cell_type": "code",
   "execution_count": null,
   "id": "95f08a15",
   "metadata": {},
   "outputs": [],
   "source": [
    "df_final = df_processed_2.dropna().drop(\"humidity\", axis=1)\n",
    "df_final.to_csv(DATA_DIR / \"air_quality_processed.csv\", index=True)"
   ]
  },
  {
   "attachments": {},
   "cell_type": "markdown",
   "id": "c36a2cff",
   "metadata": {},
   "source": [
    "Done!"
   ]
  },
  {
   "cell_type": "code",
   "execution_count": null,
   "id": "f585bb69",
   "metadata": {},
   "outputs": [],
   "source": []
  }
 ],
 "metadata": {
  "kernelspec": {
   "display_name": "Python 3 (ipykernel)",
   "language": "python",
   "name": "python3"
  },
  "language_info": {
   "codemirror_mode": {
    "name": "ipython",
    "version": 3
   },
   "file_extension": ".py",
   "mimetype": "text/x-python",
   "name": "python",
   "nbconvert_exporter": "python",
   "pygments_lexer": "ipython3",
   "version": "3.9.16"
  }
 },
 "nbformat": 4,
 "nbformat_minor": 5
}
