{
 "cells": [
  {
   "attachments": {},
   "cell_type": "markdown",
   "id": "276b8768",
   "metadata": {},
   "source": [
    "### Time Series Workshop \n",
    "# 8. Final Boss Challenge &#x1F631; \n",
    "\n",
    "- Here we have a beast: Some real data from the [Rossmann Kaggle Challenge](https://www.kaggle.com/c/rossmann-store-sales) some years ago.\n",
    "- Data consists of sales per store ID for a timeperiod between 2013 and 2015. The goal is to predict the sales for 2015.\n",
    "- In addition, we have some store-metadata like the store type, the assortment type, the competition distance, etc. that can be used for feature engineering. \n",
    "- Note that  we are limiting ourselves to 20 stores in this example. The original challenge had over 1000 stores. \n",
    "- This is a tough one, after all it's one of the better known and quite instructive Kaggle challenges.\n",
    "\n",
    "Good luck!"
   ]
  },
  {
   "cell_type": "code",
   "execution_count": null,
   "id": "68a7ce28",
   "metadata": {},
   "outputs": [],
   "source": [
    "%config InlineBackend.figure_format='retina'\n",
    "%load_ext autoreload\n",
    "%autoreload 2\n",
    "\n",
    "import pandas as pd\n",
    "import numpy as np\n",
    "import matplotlib.pyplot as plt\n",
    "from pathlib import Path\n",
    "from sklearn.linear_model import Lasso\n",
    "from sklearn.pipeline import Pipeline\n",
    "\n",
    "DATA_DIR = Path(\"..\") / Path(\"data\")"
   ]
  },
  {
   "attachments": {},
   "cell_type": "markdown",
   "id": "b0b20482",
   "metadata": {},
   "source": [
    "## Load data"
   ]
  },
  {
   "cell_type": "code",
   "execution_count": null,
   "id": "b47b0fd5",
   "metadata": {},
   "outputs": [],
   "source": [
    "SPLIT_DATE = \"2015-01-01\"\n",
    "TARGET_COL = \"Sales\"\n",
    "\n",
    "df_in  = pd.read_csv(DATA_DIR / \"store_retail.csv\", low_memory=False)\n",
    "df_metadata_in = pd.read_csv(DATA_DIR / \"store_retail_metadata.csv\", low_memory=False)\n",
    "\n",
    "df = df_in.copy()\n",
    "df_metadata = df_metadata_in.copy()"
   ]
  },
  {
   "cell_type": "code",
   "execution_count": null,
   "id": "05191f08",
   "metadata": {},
   "outputs": [],
   "source": [
    "df.head()"
   ]
  },
  {
   "cell_type": "code",
   "execution_count": null,
   "id": "b35ffcef",
   "metadata": {},
   "outputs": [],
   "source": [
    "df_metadata.head()"
   ]
  },
  {
   "attachments": {},
   "cell_type": "markdown",
   "id": "c9e211be",
   "metadata": {},
   "source": [
    "## Preprocessing\n"
   ]
  },
  {
   "cell_type": "code",
   "execution_count": null,
   "id": "1067185a",
   "metadata": {},
   "outputs": [],
   "source": [
    "..."
   ]
  },
  {
   "cell_type": "code",
   "execution_count": null,
   "id": "32cf1e5f",
   "metadata": {},
   "outputs": [],
   "source": []
  },
  {
   "cell_type": "code",
   "execution_count": null,
   "id": "28873498",
   "metadata": {},
   "outputs": [],
   "source": []
  }
 ],
 "metadata": {
  "kernelspec": {
   "display_name": "Python 3 (ipykernel)",
   "language": "python",
   "name": "python3"
  },
  "language_info": {
   "codemirror_mode": {
    "name": "ipython",
    "version": 3
   },
   "file_extension": ".py",
   "mimetype": "text/x-python",
   "name": "python",
   "nbconvert_exporter": "python",
   "pygments_lexer": "ipython3",
   "version": "3.9.16"
  }
 },
 "nbformat": 4,
 "nbformat_minor": 5
}
