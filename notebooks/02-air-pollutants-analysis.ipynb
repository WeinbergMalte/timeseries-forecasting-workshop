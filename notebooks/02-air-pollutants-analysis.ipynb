{
 "cells": [
  {
   "attachments": {},
   "cell_type": "markdown",
   "id": "4c604e9a",
   "metadata": {},
   "source": [
    "### Time Series Workshop \n",
    "# 2. Air Pollutants &#x1F525;: Analysis\n",
    "\n",
    "In this notebook, we will analyse time series data on pollutant concentration.\n",
    "\n",
    "## Dataset synopsis\n",
    "\n",
    "We will work with the Air Quality Dataset from the [UCI Machine Learning Repository](https://archive.ics.uci.edu/ml/datasets/Air+Quality).\n",
    "\n",
    "- The dataset contains hourly recordings of air pollutants concentration in an Italian city.\n",
    "\n",
    "- For sake of simplicity, we will limit our work to the variable **relative humidity** (humidity) and measured **carbon monoxide concentration** (co_sensor) in mg/m^3.\n",
    "\n",
    "- This dataset is a bit challenging because\n",
    "  - Timestamps are not equidistant \n",
    "  - Entire days of recordings are missing, probably due to data collection failure. \n",
    "  - There are also outliers wherever the sensors did not manage to obtain a measurement of humidity or CO concentration."
   ]
  },
  {
   "cell_type": "code",
   "execution_count": null,
   "id": "68a7ce28",
   "metadata": {},
   "outputs": [],
   "source": [
    "%config InlineBackend.figure_format='retina'\n",
    "%load_ext autoreload\n",
    "%autoreload 2\n",
    "\n",
    "import matplotlib.pyplot as plt\n",
    "from pathlib import Path\n",
    "from timeseries.data import load_air_quality\n",
    "\n",
    "DATA_DIR = Path(\"..\") / Path(\"data\")\n"
   ]
  },
  {
   "attachments": {},
   "cell_type": "markdown",
   "id": "b0b20482",
   "metadata": {},
   "source": [
    "## Load and process data"
   ]
  },
  {
   "cell_type": "code",
   "execution_count": null,
   "id": "78d5a69c",
   "metadata": {},
   "outputs": [],
   "source": [
    "FILE_PATH = DATA_DIR / \"air_quality.csv\"\n",
    "\n",
    "df_in = load_air_quality(FILE_PATH)\n",
    "df_in.head()"
   ]
  },
  {
   "cell_type": "code",
   "execution_count": null,
   "id": "63c83976",
   "metadata": {},
   "outputs": [],
   "source": [
    "variables = [\"co_sensor\", \"humidity\"]\n",
    "df = df_in[variables].copy()\n",
    "df.head()"
   ]
  },
  {
   "cell_type": "code",
   "execution_count": null,
   "id": "c55b8577",
   "metadata": {},
   "outputs": [],
   "source": [
    "_, axs = plt.subplots(2, 1, figsize=(14, 5), sharex=True)\n",
    "for var, ax in zip(variables, axs):\n",
    "    df[var].plot(ax=ax)\n",
    "    ax.set_ylabel(var)\n",
    "plt.tight_layout()"
   ]
  },
  {
   "attachments": {},
   "cell_type": "markdown",
   "id": "b6103ba4",
   "metadata": {},
   "source": [
    "## Preprocessing\n",
    "- There are records missing: pandas plot interpolates linearly between available values.\n",
    "- Some values are negative, most likely measurement errors, as concentration or humidity level can't be negative."
   ]
  },
  {
   "cell_type": "code",
   "execution_count": null,
   "id": "19c43b23",
   "metadata": {},
   "outputs": [],
   "source": [
    "# Remove faulty values:\n",
    "for var in variables:\n",
    "    df = df[df[var] >= 0]\n",
    "\n",
    "df_ = df.asfreq(\"1H\")\n",
    "\n",
    "# Apply the forward fill method.\n",
    "df_imputed = df_.fillna(method=\"ffill\")\n",
    "\n",
    "_, axs = plt.subplots(2, 1, figsize=(14, 5), sharex=True)\n",
    "for var, ax in zip(variables, axs):\n",
    "    df_[var].plot(ax=ax, marker=\"none\")\n",
    "    df_imputed[df_.isnull()][var].plot(ax=ax, legend=None, color=\"r\")\n",
    "    ax.set_ylabel(var)\n",
    "plt.tight_layout()"
   ]
  },
  {
   "attachments": {},
   "cell_type": "markdown",
   "id": "76ab3b9a",
   "metadata": {},
   "source": [
    "## Seasonality"
   ]
  },
  {
   "cell_type": "code",
   "execution_count": null,
   "id": "0b47dc14",
   "metadata": {},
   "outputs": [],
   "source": [
    "def q05(x):\n",
    "    return x.quantile(0.05)\n",
    "\n",
    "\n",
    "def q95(x):\n",
    "    return x.quantile(0.95)\n",
    "\n",
    "\n",
    "_, axs = plt.subplots(1, 2, figsize=(12, 4))\n",
    "for var, ax in zip(variables, axs):\n",
    "    df_v = df[[var]].copy()\n",
    "\n",
    "    # Group by hour of the day and compute mean and 90% confidence interval\n",
    "    df_v[\"hour\"] = df_v.index.hour\n",
    "    df_time_season = df_v.groupby(\"hour\")[[var]].agg([\"mean\", q05, q95])\n",
    "\n",
    "    # Plot mean values\n",
    "    ax.plot(df_time_season[var][\"mean\"], label=var, linewidth=2)\n",
    "\n",
    "    # Plot confidence intervals\n",
    "    ax.fill_between(\n",
    "        df_time_season.index,\n",
    "        df_time_season[var][\"q05\"],\n",
    "        df_time_season[var][\"q95\"],\n",
    "        alpha=0.2,\n",
    "        label=\"90% CI\",\n",
    "    )\n",
    "\n",
    "    ax.set_xlabel(\"Hour of the day\")\n",
    "    ax.set_xlim((0, 23))\n",
    "    ax.legend()\n",
    "plt.tight_layout()"
   ]
  },
  {
   "attachments": {},
   "cell_type": "markdown",
   "id": "57d9551d",
   "metadata": {},
   "source": [
    "Indeed, there's some clear seasonality of\n",
    "- Carbon monoxide concentration during rush-hours\n",
    "- Humidity (due to the daily temperature cycle)"
   ]
  },
  {
   "cell_type": "code",
   "execution_count": null,
   "id": "dc225fec",
   "metadata": {},
   "outputs": [],
   "source": []
  }
 ],
 "metadata": {
  "kernelspec": {
   "display_name": "Python 3 (ipykernel)",
   "language": "python",
   "name": "python3"
  },
  "language_info": {
   "codemirror_mode": {
    "name": "ipython",
    "version": 3
   },
   "file_extension": ".py",
   "mimetype": "text/x-python",
   "name": "python",
   "nbconvert_exporter": "python",
   "pygments_lexer": "ipython3",
   "version": "3.9.16"
  }
 },
 "nbformat": 4,
 "nbformat_minor": 5
}
