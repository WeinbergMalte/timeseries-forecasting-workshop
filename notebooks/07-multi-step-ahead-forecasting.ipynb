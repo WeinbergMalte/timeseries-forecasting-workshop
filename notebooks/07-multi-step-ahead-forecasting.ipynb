{
 "cells": [
  {
   "attachments": {},
   "cell_type": "markdown",
   "id": "276b8768",
   "metadata": {},
   "source": [
    "### Time Series Workshop \n",
    "# 7. Multi-Step Ahead Forecasting &#x1F449; &#x1F449; &#x1F449;\n",
    "\n",
    "For now, we've limited ourselves to single-step forecasting, i.e., we always predicted one given time-step (1h for the air pollution, 1month for the retail challenge) ahead.\n",
    "\n",
    "But what about multi-step forecasting. Can we predict the next 24h of air pollution? Or the next 12 months of retail sales?\n",
    "\n",
    "Here we'll tackle this problem and dive into the two most common approaches to multi-step forecasting: \n",
    "- Direct forecasting\n",
    "- Recursive forecasting "
   ]
  },
  {
   "cell_type": "code",
   "execution_count": null,
   "id": "68a7ce28",
   "metadata": {},
   "outputs": [],
   "source": [
    "%config InlineBackend.figure_format='retina'\n",
    "%load_ext autoreload\n",
    "%autoreload 2\n",
    "\n",
    "from pathlib import Path\n",
    "\n",
    "import matplotlib.pyplot as plt\n",
    "import pandas as pd\n",
    "from sklearn.linear_model import Lasso\n",
    "from sklearn.pipeline import Pipeline\n",
    "\n",
    "from timeseries.data import load_airline\n",
    "from timeseries.utils import print_metrics\n",
    "\n",
    "DATA_DIR = Path(\"..\") / Path(\"data\")"
   ]
  },
  {
   "attachments": {},
   "cell_type": "markdown",
   "id": "b0b20482",
   "metadata": {},
   "source": [
    "## Load data\n",
    "Let's look at a simple example: Monthly airline passengers in the US!"
   ]
  },
  {
   "cell_type": "code",
   "execution_count": null,
   "id": "59e608f3",
   "metadata": {},
   "outputs": [],
   "source": [
    "SPLIT_DATE = \"1958-01-01\"\n",
    "TARGET_COL = \"passengers\"\n",
    "\n",
    "df_in = load_airline(DATA_DIR / Path(\"airline_passengers.csv\"))\n",
    "df_in.head()"
   ]
  },
  {
   "cell_type": "code",
   "execution_count": null,
   "id": "731d19e8",
   "metadata": {},
   "outputs": [],
   "source": [
    "_ = df_in.plot(figsize=(12, 3))\n",
    "\n",
    "df = df_in.copy()\n",
    "\n",
    "df_train = df[df.index <= SPLIT_DATE]\n",
    "df_test = df[df.index > SPLIT_DATE]"
   ]
  },
  {
   "attachments": {},
   "cell_type": "markdown",
   "id": "985e7ae0",
   "metadata": {},
   "source": [
    "## Multi-step forecasting: Direct approach!\n",
    "Let's first tackle the so-called \"direct\" approach to multi-step forecasting\n",
    "\n",
    "In the direct approach, we build a model to predict each one of the steps in the forecasting horizon.\n",
    "\n",
    "This means that we need to create suitable targets first:\n",
    "\n",
    "- 1 month ahead\n",
    "- 2 months ahead\n",
    "- 3 months ahead\n",
    "- ...\n",
    "- 12 months ahead\n",
    "\n",
    "Sounds expensive? That's because it is!\n",
    "\n",
    "\n",
    "<img src=\"../images/skforecast_direct.png\" width=\"800\">\n",
    "\n",
    "Source: [skforecast.org](https://skforecast.org/0.7.0/index.html)\n",
    "\n",
    "The little-known package skforecast has some easy to use wrappers for that!"
   ]
  },
  {
   "cell_type": "code",
   "execution_count": null,
   "id": "d4e9abf2",
   "metadata": {},
   "outputs": [],
   "source": [
    "from skforecast.direct import ForecasterDirect\n",
    "\n",
    "forecaster = ForecasterDirect(\n",
    "    regressor=Lasso(alpha=3, random_state=0), steps=len(df_test), lags=15\n",
    ")\n",
    "\n",
    "forecaster.fit(y=df_train[TARGET_COL])\n",
    "\n",
    "df_pred = pd.DataFrame(\n",
    "    forecaster.predict(steps=len(df_test)).values,\n",
    "    index=df_test.index,\n",
    "    columns=[TARGET_COL],\n",
    ")\n",
    "\n",
    "_, ax = plt.subplots(figsize=(12, 3))\n",
    "_ = df_train.plot(ax=ax)\n",
    "_ = df_test.plot(ax=ax)\n",
    "_ = df_pred.plot(ax=ax)\n",
    "_ = ax.legend([\"train\", \"test\", \"pred\"])\n",
    "\n",
    "print_metrics(df_test, df_pred)"
   ]
  },
  {
   "attachments": {},
   "cell_type": "markdown",
   "id": "07cb1729",
   "metadata": {},
   "source": [
    "## Multi-step forecasting: Recursive approach!\n",
    "\n",
    "In contrast to the direct approach, we only need a single trained model for the recursive forecast.\n",
    "\n",
    "Here, we iterate over single forecasting steps and use these forecasts for the next single-step of forecasts until we reach the end of our horizon.\n",
    "\n",
    "One major disadvantage compared to the direct approach could be, that forecasting errors quickly add up.\n",
    "\n",
    "\n",
    "<img src=\"../images/skforecast_recursive.png\" width=\"800\">\n",
    "\n",
    "Source: [skforecast.org](https://skforecast.org/0.7.0/index.html)"
   ]
  },
  {
   "cell_type": "code",
   "execution_count": null,
   "id": "953f783e",
   "metadata": {},
   "outputs": [],
   "source": [
    "from skforecast.recursive import ForecasterRecursive\n",
    "\n",
    "forecaster = ForecasterRecursive(regressor=Lasso(alpha=3, random_state=0), lags=15)\n",
    "forecaster.fit(y=df_train[TARGET_COL])\n",
    "\n",
    "df_pred = pd.DataFrame(\n",
    "    forecaster.predict(steps=len(df_test)).values,\n",
    "    index=df_test.index,\n",
    "    columns=[TARGET_COL],\n",
    ")\n",
    "\n",
    "_, ax = plt.subplots(figsize=(12, 3))\n",
    "_ = df_train.plot(ax=ax)\n",
    "_ = df_test.plot(ax=ax)\n",
    "_ = df_pred.plot(ax=ax)\n",
    "_ = ax.legend([\"train\", \"test\", \"pred\"])\n",
    "\n",
    "print_metrics(df_test, df_pred)"
   ]
  },
  {
   "attachments": {},
   "cell_type": "markdown",
   "id": "87559187",
   "metadata": {},
   "source": [
    "Eh, the jury is out on what approach works better.\n",
    "Here's the recursive stratgegy explained a bit more thoroughly:\n",
    "\n",
    "<img src=\"../images/udemy_recursive_1.png\" width=\"500\"><img src=\"../images/udemy_recursive_2.png\" width=\"500\">\n",
    "\n",
    "<img src=\"../images/udemy_recursive_3.png\" width=\"500\"><img src=\"../images/udemy_recursive_4.png\" width=\"500\">\n",
    "\n",
    "Source: [Udemy: Feature Engineering for Time Series Forecasting](https://www.udemy.com/course/feature-engineering-for-time-series-forecasting/).\n"
   ]
  },
  {
   "attachments": {},
   "cell_type": "markdown",
   "id": "1283cb6f",
   "metadata": {},
   "source": [
    "## Multi-step forecasting: Direct instructive approach!\n",
    "\n",
    "These models are nice to use, but maybe we can built a bit more instructive example by hand."
   ]
  },
  {
   "attachments": {},
   "cell_type": "markdown",
   "id": "56f1e3d0",
   "metadata": {},
   "source": [
    "The number of time steps we want to forecast is also called the forecasting **\"horizon\"**."
   ]
  },
  {
   "cell_type": "code",
   "execution_count": null,
   "id": "378dc7b0",
   "metadata": {},
   "outputs": [],
   "source": [
    "# Create an empty dataframe for the new targets.\n",
    "df_train_multi = pd.DataFrame(index=df_train.index)\n",
    "df_test_multi = pd.DataFrame(index=df_test.index)\n",
    "\n",
    "# Add each one of the steps ahead.\n",
    "for h in range(len(df_test)):\n",
    "    df_train_multi[f\"m_{h}\"] = df_train.shift(periods=-h, freq=\"MS\")\n",
    "    df_test_multi[f\"m_{h}\"] = df_test.shift(periods=-h, freq=\"MS\")\n",
    "\n",
    "df_train_multi.head(3)"
   ]
  },
  {
   "cell_type": "markdown",
   "id": "b2463502",
   "metadata": {},
   "source": [
    "Now, with the **MultiOutputRegressor** wrapper from Scikit-Learn we can automatically create one regression per target:"
   ]
  },
  {
   "cell_type": "code",
   "execution_count": null,
   "id": "47ba8f0f",
   "metadata": {},
   "outputs": [],
   "source": [
    "from feature_engine.datetime import DatetimeFeatures\n",
    "from sklearn.multioutput import MultiOutputRegressor\n",
    "\n",
    "df_train_multi.dropna(inplace=True)\n",
    "df_test_multi.dropna(inplace=True)\n",
    "\n",
    "# Date feature transformer:\n",
    "datetime_features = DatetimeFeatures(\n",
    "    variables=\"month\",\n",
    "    features_to_extract=[\"month\", \"year\"],\n",
    ")\n",
    "\n",
    "pipe = Pipeline(\n",
    "    [(\"dt\", datetime_features), (\"regressor\", Lasso(alpha=2, random_state=0))]\n",
    ")\n",
    "\n",
    "model = MultiOutputRegressor(pipe)\n",
    "model.fit(X=df_train_multi.reset_index()[[\"month\"]], y=df_train_multi)"
   ]
  },
  {
   "cell_type": "code",
   "execution_count": null,
   "id": "94ae2c80",
   "metadata": {},
   "outputs": [],
   "source": [
    "preds = model.predict(df_test_multi.reset_index()[[\"month\"]])\n",
    "df_pred = pd.DataFrame(preds[0], columns=df_test.columns, index=df_test.index)\n",
    "\n",
    "_, ax = plt.subplots(figsize=(12, 3))\n",
    "_ = df_train.plot(ax=ax)\n",
    "_ = df_test.plot(ax=ax)\n",
    "_ = df_pred.plot(ax=ax)\n",
    "_ = ax.legend([\"train\", \"test\", \"pred\"])\n",
    "\n",
    "print_metrics(df_test, df_pred)"
   ]
  },
  {
   "cell_type": "code",
   "execution_count": null,
   "id": "28873498",
   "metadata": {},
   "outputs": [],
   "source": []
  }
 ],
 "metadata": {
  "kernelspec": {
   "display_name": "timeseries",
   "language": "python",
   "name": "python3"
  },
  "language_info": {
   "codemirror_mode": {
    "name": "ipython",
    "version": 3
   },
   "file_extension": ".py",
   "mimetype": "text/x-python",
   "name": "python",
   "nbconvert_exporter": "python",
   "pygments_lexer": "ipython3",
   "version": "3.11.12"
  }
 },
 "nbformat": 4,
 "nbformat_minor": 5
}
