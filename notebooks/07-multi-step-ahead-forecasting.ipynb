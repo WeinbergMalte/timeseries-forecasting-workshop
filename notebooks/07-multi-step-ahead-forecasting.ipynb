{
 "cells": [
  {
   "attachments": {},
   "cell_type": "markdown",
   "id": "276b8768",
   "metadata": {},
   "source": [
    "### Time Series Workshop \n",
    "# 6. Multi-Step Ahead Forecasting &#x1F449; &#x1F449; &#x1F449;\n",
    "\n",
    "For now, we've limited ourselves to single-step forecasting, i.e., we always predicted one given time-step (1h for the air pollution, 1month for the retail challenge) ahead.\n",
    "\n",
    "But what about multi-step forecasting. Can we predict the next 24h of air pollution? Or the next 12 months of retail sales?\n",
    "\n",
    "Here we'll tackle this problem and dive into the two most common approaches to multi-step forecasting: \n",
    "- Direct forecasting\n",
    "- Recursive forecasting "
   ]
  },
  {
   "cell_type": "code",
   "execution_count": 3,
   "id": "68a7ce28",
   "metadata": {},
   "outputs": [
    {
     "name": "stdout",
     "output_type": "stream",
     "text": [
      "The autoreload extension is already loaded. To reload it, use:\n",
      "  %reload_ext autoreload\n"
     ]
    }
   ],
   "source": [
    "%config InlineBackend.figure_format='retina'\n",
    "%load_ext autoreload\n",
    "%autoreload 2\n",
    "\n",
    "import pandas as pd\n",
    "import numpy as np\n",
    "import matplotlib.pyplot as plt\n",
    "from pathlib import Path\n",
    "from sklearn.linear_model import Lasso\n",
    "from sklearn.ensemble import RandomForestRegressor\n",
    "from sklearn.pipeline import Pipeline\n",
    "\n",
    "from timeseries.data import load_air_quality\n",
    "from timeseries.utils import print_metrics\n",
    "\n",
    "DATA_DIR = Path(\"..\") / Path(\"data\")"
   ]
  },
  {
   "attachments": {},
   "cell_type": "markdown",
   "id": "b0b20482",
   "metadata": {},
   "source": [
    "## Load data\n",
    "Let's come back to our air-pollution example from before!"
   ]
  },
  {
   "cell_type": "code",
   "execution_count": 6,
   "id": "64d9a558",
   "metadata": {},
   "outputs": [
    {
     "data": {
      "text/html": [
       "<div>\n",
       "<style scoped>\n",
       "    .dataframe tbody tr th:only-of-type {\n",
       "        vertical-align: middle;\n",
       "    }\n",
       "\n",
       "    .dataframe tbody tr th {\n",
       "        vertical-align: top;\n",
       "    }\n",
       "\n",
       "    .dataframe thead th {\n",
       "        text-align: right;\n",
       "    }\n",
       "</style>\n",
       "<table border=\"1\" class=\"dataframe\">\n",
       "  <thead>\n",
       "    <tr style=\"text-align: right;\">\n",
       "      <th></th>\n",
       "      <th>co_sensor</th>\n",
       "      <th>humidity</th>\n",
       "    </tr>\n",
       "    <tr>\n",
       "      <th>date_time</th>\n",
       "      <th></th>\n",
       "      <th></th>\n",
       "    </tr>\n",
       "  </thead>\n",
       "  <tbody>\n",
       "    <tr>\n",
       "      <th>2004-04-04 00:00:00</th>\n",
       "      <td>1224.0</td>\n",
       "      <td>56.5</td>\n",
       "    </tr>\n",
       "    <tr>\n",
       "      <th>2004-04-04 01:00:00</th>\n",
       "      <td>1215.0</td>\n",
       "      <td>59.2</td>\n",
       "    </tr>\n",
       "    <tr>\n",
       "      <th>2004-04-04 02:00:00</th>\n",
       "      <td>1115.0</td>\n",
       "      <td>62.4</td>\n",
       "    </tr>\n",
       "    <tr>\n",
       "      <th>2004-04-04 03:00:00</th>\n",
       "      <td>1124.0</td>\n",
       "      <td>65.0</td>\n",
       "    </tr>\n",
       "    <tr>\n",
       "      <th>2004-04-04 04:00:00</th>\n",
       "      <td>1028.0</td>\n",
       "      <td>65.3</td>\n",
       "    </tr>\n",
       "  </tbody>\n",
       "</table>\n",
       "</div>"
      ],
      "text/plain": [
       "                     co_sensor  humidity\n",
       "date_time                               \n",
       "2004-04-04 00:00:00     1224.0      56.5\n",
       "2004-04-04 01:00:00     1215.0      59.2\n",
       "2004-04-04 02:00:00     1115.0      62.4\n",
       "2004-04-04 03:00:00     1124.0      65.0\n",
       "2004-04-04 04:00:00     1028.0      65.3"
      ]
     },
     "execution_count": 6,
     "metadata": {},
     "output_type": "execute_result"
    }
   ],
   "source": [
    "SPLIT_DATE = \"2005-02-01\"\n",
    "TARGET_COL = \"co_sensor\"\n",
    "FILE_PATH = DATA_DIR / \"air_quality.csv\"\n",
    "VARIABLES = [TARGET_COL, \"humidity\"]\n",
    "\n",
    "df_in = load_air_quality(FILE_PATH)[VARIABLES]\n",
    "df_in.head()"
   ]
  },
  {
   "attachments": {},
   "cell_type": "markdown",
   "id": "a1d74f4b",
   "metadata": {},
   "source": [
    "# Streamlined pre-processing\n",
    "- We were quite verbose with our feature-engineering earlier\n",
    "- Let's streamline this a little bit with some more concise transformers"
   ]
  },
  {
   "cell_type": "code",
   "execution_count": 12,
   "id": "90ed3e4f",
   "metadata": {},
   "outputs": [],
   "source": [
    "from feature_engine.creation import CyclicalFeatures\n",
    "from feature_engine.datetime import DatetimeFeatures\n",
    "from feature_engine.imputation import DropMissingData\n",
    "from feature_engine.selection import DropFeatures\n",
    "from feature_engine.timeseries.forecasting import (\n",
    "    LagFeatures,\n",
    "    WindowFeatures,\n",
    ")\n",
    "\n",
    "# Date feature transformer:\n",
    "datetime_features = DatetimeFeatures(\n",
    "    variables=\"index\",\n",
    "    features_to_extract=[\n",
    "        \"month\",\n",
    "        \"week\",\n",
    "        \"day_of_week\",\n",
    "        \"day_of_month\",\n",
    "        \"hour\",\n",
    "        \"weekend\",\n",
    "    ],\n",
    ")\n",
    "\n",
    "# Lag feature transformer:\n",
    "lag_features = LagFeatures(\n",
    "    variables=VARIABLES, freq=[\"1H\", \"24H\"], missing_values=\"ignore\"\n",
    ")\n",
    "\n",
    "# Window feature transformer:\n",
    "window_features = WindowFeatures(\n",
    "    variables=VARIABLES,\n",
    "    window=\"3H\",\n",
    "    freq=\"1H\",\n",
    "    missing_values=\"ignore\",\n",
    "    functions=[\"mean\", \"min\", \"max\", \"std\"],\n",
    ")\n",
    "\n",
    "# Cyclical feature transformer (this one we already know!):\n",
    "cyclic_features = CyclicalFeatures(variables=[\"month\", \"hour\"], drop_original=False)\n",
    "\n",
    "# Drop missing data transformer:\n",
    "dropnas = DropMissingData()\n",
    "\n",
    "# Drop features transformer (to avoid look-ahead bias):\n",
    "drop_features = DropFeatures(features_to_drop=VARIABLES)"
   ]
  },
  {
   "attachments": {},
   "cell_type": "markdown",
   "id": "82cf2999",
   "metadata": {},
   "source": [
    "Combine all of this in a neat little sklearn pipeline"
   ]
  },
  {
   "cell_type": "code",
   "execution_count": 15,
   "id": "5bda7fc6",
   "metadata": {},
   "outputs": [
    {
     "data": {
      "text/html": [
       "<style>#sk-container-id-1 {color: black;background-color: white;}#sk-container-id-1 pre{padding: 0;}#sk-container-id-1 div.sk-toggleable {background-color: white;}#sk-container-id-1 label.sk-toggleable__label {cursor: pointer;display: block;width: 100%;margin-bottom: 0;padding: 0.3em;box-sizing: border-box;text-align: center;}#sk-container-id-1 label.sk-toggleable__label-arrow:before {content: \"▸\";float: left;margin-right: 0.25em;color: #696969;}#sk-container-id-1 label.sk-toggleable__label-arrow:hover:before {color: black;}#sk-container-id-1 div.sk-estimator:hover label.sk-toggleable__label-arrow:before {color: black;}#sk-container-id-1 div.sk-toggleable__content {max-height: 0;max-width: 0;overflow: hidden;text-align: left;background-color: #f0f8ff;}#sk-container-id-1 div.sk-toggleable__content pre {margin: 0.2em;color: black;border-radius: 0.25em;background-color: #f0f8ff;}#sk-container-id-1 input.sk-toggleable__control:checked~div.sk-toggleable__content {max-height: 200px;max-width: 100%;overflow: auto;}#sk-container-id-1 input.sk-toggleable__control:checked~label.sk-toggleable__label-arrow:before {content: \"▾\";}#sk-container-id-1 div.sk-estimator input.sk-toggleable__control:checked~label.sk-toggleable__label {background-color: #d4ebff;}#sk-container-id-1 div.sk-label input.sk-toggleable__control:checked~label.sk-toggleable__label {background-color: #d4ebff;}#sk-container-id-1 input.sk-hidden--visually {border: 0;clip: rect(1px 1px 1px 1px);clip: rect(1px, 1px, 1px, 1px);height: 1px;margin: -1px;overflow: hidden;padding: 0;position: absolute;width: 1px;}#sk-container-id-1 div.sk-estimator {font-family: monospace;background-color: #f0f8ff;border: 1px dotted black;border-radius: 0.25em;box-sizing: border-box;margin-bottom: 0.5em;}#sk-container-id-1 div.sk-estimator:hover {background-color: #d4ebff;}#sk-container-id-1 div.sk-parallel-item::after {content: \"\";width: 100%;border-bottom: 1px solid gray;flex-grow: 1;}#sk-container-id-1 div.sk-label:hover label.sk-toggleable__label {background-color: #d4ebff;}#sk-container-id-1 div.sk-serial::before {content: \"\";position: absolute;border-left: 1px solid gray;box-sizing: border-box;top: 0;bottom: 0;left: 50%;z-index: 0;}#sk-container-id-1 div.sk-serial {display: flex;flex-direction: column;align-items: center;background-color: white;padding-right: 0.2em;padding-left: 0.2em;position: relative;}#sk-container-id-1 div.sk-item {position: relative;z-index: 1;}#sk-container-id-1 div.sk-parallel {display: flex;align-items: stretch;justify-content: center;background-color: white;position: relative;}#sk-container-id-1 div.sk-item::before, #sk-container-id-1 div.sk-parallel-item::before {content: \"\";position: absolute;border-left: 1px solid gray;box-sizing: border-box;top: 0;bottom: 0;left: 50%;z-index: -1;}#sk-container-id-1 div.sk-parallel-item {display: flex;flex-direction: column;z-index: 1;position: relative;background-color: white;}#sk-container-id-1 div.sk-parallel-item:first-child::after {align-self: flex-end;width: 50%;}#sk-container-id-1 div.sk-parallel-item:last-child::after {align-self: flex-start;width: 50%;}#sk-container-id-1 div.sk-parallel-item:only-child::after {width: 0;}#sk-container-id-1 div.sk-dashed-wrapped {border: 1px dashed gray;margin: 0 0.4em 0.5em 0.4em;box-sizing: border-box;padding-bottom: 0.4em;background-color: white;}#sk-container-id-1 div.sk-label label {font-family: monospace;font-weight: bold;display: inline-block;line-height: 1.2em;}#sk-container-id-1 div.sk-label-container {text-align: center;}#sk-container-id-1 div.sk-container {/* jupyter's `normalize.less` sets `[hidden] { display: none; }` but bootstrap.min.css set `[hidden] { display: none !important; }` so we also need the `!important` here to be able to override the default hidden behavior on the sphinx rendered scikit-learn.org. See: https://github.com/scikit-learn/scikit-learn/issues/21755 */display: inline-block !important;position: relative;}#sk-container-id-1 div.sk-text-repr-fallback {display: none;}</style><div id=\"sk-container-id-1\" class=\"sk-top-container\"><div class=\"sk-text-repr-fallback\"><pre>Pipeline(steps=[(&#x27;datetime_features&#x27;,\n",
       "                 DatetimeFeatures(features_to_extract=[&#x27;month&#x27;, &#x27;week&#x27;,\n",
       "                                                       &#x27;day_of_week&#x27;,\n",
       "                                                       &#x27;day_of_month&#x27;, &#x27;hour&#x27;,\n",
       "                                                       &#x27;weekend&#x27;],\n",
       "                                  variables=&#x27;index&#x27;)),\n",
       "                (&#x27;lag_features&#x27;,\n",
       "                 LagFeatures(freq=[&#x27;1H&#x27;, &#x27;24H&#x27;], missing_values=&#x27;ignore&#x27;,\n",
       "                             variables=[&#x27;co_sensor&#x27;, &#x27;humidity&#x27;])),\n",
       "                (&#x27;window_features&#x27;,\n",
       "                 WindowFeatures(freq=&#x27;1H&#x27;,\n",
       "                                functions=[&#x27;mean&#x27;, &#x27;min&#x27;, &#x27;max&#x27;, &#x27;std&#x27;],\n",
       "                                missing_values=&#x27;ignore&#x27;,\n",
       "                                variables=[&#x27;co_sensor&#x27;, &#x27;humidity&#x27;],\n",
       "                                window=&#x27;3H&#x27;)),\n",
       "                (&#x27;cyclic_features&#x27;,\n",
       "                 CyclicalFeatures(variables=[&#x27;month&#x27;, &#x27;hour&#x27;])),\n",
       "                (&#x27;dropnas&#x27;, DropMissingData()),\n",
       "                (&#x27;drop_features&#x27;,\n",
       "                 DropFeatures(features_to_drop=[&#x27;co_sensor&#x27;, &#x27;humidity&#x27;]))])</pre><b>In a Jupyter environment, please rerun this cell to show the HTML representation or trust the notebook. <br />On GitHub, the HTML representation is unable to render, please try loading this page with nbviewer.org.</b></div><div class=\"sk-container\" hidden><div class=\"sk-item sk-dashed-wrapped\"><div class=\"sk-label-container\"><div class=\"sk-label sk-toggleable\"><input class=\"sk-toggleable__control sk-hidden--visually\" id=\"sk-estimator-id-1\" type=\"checkbox\" ><label for=\"sk-estimator-id-1\" class=\"sk-toggleable__label sk-toggleable__label-arrow\">Pipeline</label><div class=\"sk-toggleable__content\"><pre>Pipeline(steps=[(&#x27;datetime_features&#x27;,\n",
       "                 DatetimeFeatures(features_to_extract=[&#x27;month&#x27;, &#x27;week&#x27;,\n",
       "                                                       &#x27;day_of_week&#x27;,\n",
       "                                                       &#x27;day_of_month&#x27;, &#x27;hour&#x27;,\n",
       "                                                       &#x27;weekend&#x27;],\n",
       "                                  variables=&#x27;index&#x27;)),\n",
       "                (&#x27;lag_features&#x27;,\n",
       "                 LagFeatures(freq=[&#x27;1H&#x27;, &#x27;24H&#x27;], missing_values=&#x27;ignore&#x27;,\n",
       "                             variables=[&#x27;co_sensor&#x27;, &#x27;humidity&#x27;])),\n",
       "                (&#x27;window_features&#x27;,\n",
       "                 WindowFeatures(freq=&#x27;1H&#x27;,\n",
       "                                functions=[&#x27;mean&#x27;, &#x27;min&#x27;, &#x27;max&#x27;, &#x27;std&#x27;],\n",
       "                                missing_values=&#x27;ignore&#x27;,\n",
       "                                variables=[&#x27;co_sensor&#x27;, &#x27;humidity&#x27;],\n",
       "                                window=&#x27;3H&#x27;)),\n",
       "                (&#x27;cyclic_features&#x27;,\n",
       "                 CyclicalFeatures(variables=[&#x27;month&#x27;, &#x27;hour&#x27;])),\n",
       "                (&#x27;dropnas&#x27;, DropMissingData()),\n",
       "                (&#x27;drop_features&#x27;,\n",
       "                 DropFeatures(features_to_drop=[&#x27;co_sensor&#x27;, &#x27;humidity&#x27;]))])</pre></div></div></div><div class=\"sk-serial\"><div class=\"sk-item\"><div class=\"sk-estimator sk-toggleable\"><input class=\"sk-toggleable__control sk-hidden--visually\" id=\"sk-estimator-id-2\" type=\"checkbox\" ><label for=\"sk-estimator-id-2\" class=\"sk-toggleable__label sk-toggleable__label-arrow\">DatetimeFeatures</label><div class=\"sk-toggleable__content\"><pre>DatetimeFeatures(features_to_extract=[&#x27;month&#x27;, &#x27;week&#x27;, &#x27;day_of_week&#x27;,\n",
       "                                      &#x27;day_of_month&#x27;, &#x27;hour&#x27;, &#x27;weekend&#x27;],\n",
       "                 variables=&#x27;index&#x27;)</pre></div></div></div><div class=\"sk-item\"><div class=\"sk-estimator sk-toggleable\"><input class=\"sk-toggleable__control sk-hidden--visually\" id=\"sk-estimator-id-3\" type=\"checkbox\" ><label for=\"sk-estimator-id-3\" class=\"sk-toggleable__label sk-toggleable__label-arrow\">LagFeatures</label><div class=\"sk-toggleable__content\"><pre>LagFeatures(freq=[&#x27;1H&#x27;, &#x27;24H&#x27;], missing_values=&#x27;ignore&#x27;,\n",
       "            variables=[&#x27;co_sensor&#x27;, &#x27;humidity&#x27;])</pre></div></div></div><div class=\"sk-item\"><div class=\"sk-estimator sk-toggleable\"><input class=\"sk-toggleable__control sk-hidden--visually\" id=\"sk-estimator-id-4\" type=\"checkbox\" ><label for=\"sk-estimator-id-4\" class=\"sk-toggleable__label sk-toggleable__label-arrow\">WindowFeatures</label><div class=\"sk-toggleable__content\"><pre>WindowFeatures(freq=&#x27;1H&#x27;, functions=[&#x27;mean&#x27;, &#x27;min&#x27;, &#x27;max&#x27;, &#x27;std&#x27;],\n",
       "               missing_values=&#x27;ignore&#x27;, variables=[&#x27;co_sensor&#x27;, &#x27;humidity&#x27;],\n",
       "               window=&#x27;3H&#x27;)</pre></div></div></div><div class=\"sk-item\"><div class=\"sk-estimator sk-toggleable\"><input class=\"sk-toggleable__control sk-hidden--visually\" id=\"sk-estimator-id-5\" type=\"checkbox\" ><label for=\"sk-estimator-id-5\" class=\"sk-toggleable__label sk-toggleable__label-arrow\">CyclicalFeatures</label><div class=\"sk-toggleable__content\"><pre>CyclicalFeatures(variables=[&#x27;month&#x27;, &#x27;hour&#x27;])</pre></div></div></div><div class=\"sk-item\"><div class=\"sk-estimator sk-toggleable\"><input class=\"sk-toggleable__control sk-hidden--visually\" id=\"sk-estimator-id-6\" type=\"checkbox\" ><label for=\"sk-estimator-id-6\" class=\"sk-toggleable__label sk-toggleable__label-arrow\">DropMissingData</label><div class=\"sk-toggleable__content\"><pre>DropMissingData()</pre></div></div></div><div class=\"sk-item\"><div class=\"sk-estimator sk-toggleable\"><input class=\"sk-toggleable__control sk-hidden--visually\" id=\"sk-estimator-id-7\" type=\"checkbox\" ><label for=\"sk-estimator-id-7\" class=\"sk-toggleable__label sk-toggleable__label-arrow\">DropFeatures</label><div class=\"sk-toggleable__content\"><pre>DropFeatures(features_to_drop=[&#x27;co_sensor&#x27;, &#x27;humidity&#x27;])</pre></div></div></div></div></div></div></div>"
      ],
      "text/plain": [
       "Pipeline(steps=[('datetime_features',\n",
       "                 DatetimeFeatures(features_to_extract=['month', 'week',\n",
       "                                                       'day_of_week',\n",
       "                                                       'day_of_month', 'hour',\n",
       "                                                       'weekend'],\n",
       "                                  variables='index')),\n",
       "                ('lag_features',\n",
       "                 LagFeatures(freq=['1H', '24H'], missing_values='ignore',\n",
       "                             variables=['co_sensor', 'humidity'])),\n",
       "                ('window_features',\n",
       "                 WindowFeatures(freq='1H',\n",
       "                                functions=['mean', 'min', 'max', 'std'],\n",
       "                                missing_values='ignore',\n",
       "                                variables=['co_sensor', 'humidity'],\n",
       "                                window='3H')),\n",
       "                ('cyclic_features',\n",
       "                 CyclicalFeatures(variables=['month', 'hour'])),\n",
       "                ('dropnas', DropMissingData()),\n",
       "                ('drop_features',\n",
       "                 DropFeatures(features_to_drop=['co_sensor', 'humidity']))])"
      ]
     },
     "execution_count": 15,
     "metadata": {},
     "output_type": "execute_result"
    }
   ],
   "source": [
    "pipe = Pipeline(\n",
    "    [\n",
    "        (\"datetime_features\", datetime_features),\n",
    "        (\"lag_features\", lag_features),\n",
    "        (\"window_features\", window_features),\n",
    "        (\"cyclic_features\", cyclic_features),\n",
    "        (\"dropnas\", dropnas),\n",
    "        (\"drop_features\", drop_features),\n",
    "    ]\n",
    ")\n",
    "pipe"
   ]
  },
  {
   "cell_type": "code",
   "execution_count": 18,
   "id": "f5ed844c",
   "metadata": {},
   "outputs": [
    {
     "data": {
      "text/html": [
       "<div>\n",
       "<style scoped>\n",
       "    .dataframe tbody tr th:only-of-type {\n",
       "        vertical-align: middle;\n",
       "    }\n",
       "\n",
       "    .dataframe tbody tr th {\n",
       "        vertical-align: top;\n",
       "    }\n",
       "\n",
       "    .dataframe thead th {\n",
       "        text-align: right;\n",
       "    }\n",
       "</style>\n",
       "<table border=\"1\" class=\"dataframe\">\n",
       "  <thead>\n",
       "    <tr style=\"text-align: right;\">\n",
       "      <th></th>\n",
       "      <th>month</th>\n",
       "      <th>week</th>\n",
       "      <th>day_of_week</th>\n",
       "      <th>day_of_month</th>\n",
       "      <th>hour</th>\n",
       "      <th>weekend</th>\n",
       "      <th>co_sensor_lag_1H</th>\n",
       "      <th>humidity_lag_1H</th>\n",
       "      <th>co_sensor_lag_24H</th>\n",
       "      <th>humidity_lag_24H</th>\n",
       "      <th>...</th>\n",
       "      <th>co_sensor_window_3H_max</th>\n",
       "      <th>co_sensor_window_3H_std</th>\n",
       "      <th>humidity_window_3H_mean</th>\n",
       "      <th>humidity_window_3H_min</th>\n",
       "      <th>humidity_window_3H_max</th>\n",
       "      <th>humidity_window_3H_std</th>\n",
       "      <th>month_sin</th>\n",
       "      <th>month_cos</th>\n",
       "      <th>hour_sin</th>\n",
       "      <th>hour_cos</th>\n",
       "    </tr>\n",
       "    <tr>\n",
       "      <th>date_time</th>\n",
       "      <th></th>\n",
       "      <th></th>\n",
       "      <th></th>\n",
       "      <th></th>\n",
       "      <th></th>\n",
       "      <th></th>\n",
       "      <th></th>\n",
       "      <th></th>\n",
       "      <th></th>\n",
       "      <th></th>\n",
       "      <th></th>\n",
       "      <th></th>\n",
       "      <th></th>\n",
       "      <th></th>\n",
       "      <th></th>\n",
       "      <th></th>\n",
       "      <th></th>\n",
       "      <th></th>\n",
       "      <th></th>\n",
       "      <th></th>\n",
       "      <th></th>\n",
       "    </tr>\n",
       "  </thead>\n",
       "  <tbody>\n",
       "    <tr>\n",
       "      <th>2004-04-05 00:00:00</th>\n",
       "      <td>4</td>\n",
       "      <td>15</td>\n",
       "      <td>0</td>\n",
       "      <td>5</td>\n",
       "      <td>0</td>\n",
       "      <td>0</td>\n",
       "      <td>1188.0</td>\n",
       "      <td>60.8</td>\n",
       "      <td>1224.0</td>\n",
       "      <td>56.5</td>\n",
       "      <td>...</td>\n",
       "      <td>1196.0</td>\n",
       "      <td>45.785733</td>\n",
       "      <td>58.566667</td>\n",
       "      <td>56.1</td>\n",
       "      <td>60.8</td>\n",
       "      <td>2.358672</td>\n",
       "      <td>0.866025</td>\n",
       "      <td>-0.5</td>\n",
       "      <td>0.000000</td>\n",
       "      <td>1.000000</td>\n",
       "    </tr>\n",
       "    <tr>\n",
       "      <th>2004-04-05 01:00:00</th>\n",
       "      <td>4</td>\n",
       "      <td>15</td>\n",
       "      <td>0</td>\n",
       "      <td>5</td>\n",
       "      <td>1</td>\n",
       "      <td>0</td>\n",
       "      <td>1065.0</td>\n",
       "      <td>65.8</td>\n",
       "      <td>1215.0</td>\n",
       "      <td>59.2</td>\n",
       "      <td>...</td>\n",
       "      <td>1196.0</td>\n",
       "      <td>73.432509</td>\n",
       "      <td>61.800000</td>\n",
       "      <td>58.8</td>\n",
       "      <td>65.8</td>\n",
       "      <td>3.605551</td>\n",
       "      <td>0.866025</td>\n",
       "      <td>-0.5</td>\n",
       "      <td>0.269797</td>\n",
       "      <td>0.962917</td>\n",
       "    </tr>\n",
       "    <tr>\n",
       "      <th>2004-04-05 02:00:00</th>\n",
       "      <td>4</td>\n",
       "      <td>15</td>\n",
       "      <td>0</td>\n",
       "      <td>5</td>\n",
       "      <td>2</td>\n",
       "      <td>0</td>\n",
       "      <td>999.0</td>\n",
       "      <td>79.2</td>\n",
       "      <td>1115.0</td>\n",
       "      <td>62.4</td>\n",
       "      <td>...</td>\n",
       "      <td>1188.0</td>\n",
       "      <td>95.921843</td>\n",
       "      <td>68.600000</td>\n",
       "      <td>60.8</td>\n",
       "      <td>79.2</td>\n",
       "      <td>9.514200</td>\n",
       "      <td>0.866025</td>\n",
       "      <td>-0.5</td>\n",
       "      <td>0.519584</td>\n",
       "      <td>0.854419</td>\n",
       "    </tr>\n",
       "  </tbody>\n",
       "</table>\n",
       "<p>3 rows × 22 columns</p>\n",
       "</div>"
      ],
      "text/plain": [
       "                     month  week  day_of_week  day_of_month  hour  weekend  \\\n",
       "date_time                                                                    \n",
       "2004-04-05 00:00:00      4    15            0             5     0        0   \n",
       "2004-04-05 01:00:00      4    15            0             5     1        0   \n",
       "2004-04-05 02:00:00      4    15            0             5     2        0   \n",
       "\n",
       "                     co_sensor_lag_1H  humidity_lag_1H  co_sensor_lag_24H  \\\n",
       "date_time                                                                   \n",
       "2004-04-05 00:00:00            1188.0             60.8             1224.0   \n",
       "2004-04-05 01:00:00            1065.0             65.8             1215.0   \n",
       "2004-04-05 02:00:00             999.0             79.2             1115.0   \n",
       "\n",
       "                     humidity_lag_24H  ...  co_sensor_window_3H_max  \\\n",
       "date_time                              ...                            \n",
       "2004-04-05 00:00:00              56.5  ...                   1196.0   \n",
       "2004-04-05 01:00:00              59.2  ...                   1196.0   \n",
       "2004-04-05 02:00:00              62.4  ...                   1188.0   \n",
       "\n",
       "                     co_sensor_window_3H_std  humidity_window_3H_mean  \\\n",
       "date_time                                                               \n",
       "2004-04-05 00:00:00                45.785733                58.566667   \n",
       "2004-04-05 01:00:00                73.432509                61.800000   \n",
       "2004-04-05 02:00:00                95.921843                68.600000   \n",
       "\n",
       "                     humidity_window_3H_min  humidity_window_3H_max  \\\n",
       "date_time                                                             \n",
       "2004-04-05 00:00:00                    56.1                    60.8   \n",
       "2004-04-05 01:00:00                    58.8                    65.8   \n",
       "2004-04-05 02:00:00                    60.8                    79.2   \n",
       "\n",
       "                     humidity_window_3H_std  month_sin  month_cos  hour_sin  \\\n",
       "date_time                                                                     \n",
       "2004-04-05 00:00:00                2.358672   0.866025       -0.5  0.000000   \n",
       "2004-04-05 01:00:00                3.605551   0.866025       -0.5  0.269797   \n",
       "2004-04-05 02:00:00                9.514200   0.866025       -0.5  0.519584   \n",
       "\n",
       "                     hour_cos  \n",
       "date_time                      \n",
       "2004-04-05 00:00:00  1.000000  \n",
       "2004-04-05 01:00:00  0.962917  \n",
       "2004-04-05 02:00:00  0.854419  \n",
       "\n",
       "[3 rows x 22 columns]"
      ]
     },
     "execution_count": 18,
     "metadata": {},
     "output_type": "execute_result"
    }
   ],
   "source": [
    "df = df_in.copy()\n",
    "\n",
    "df_processed = pipe.fit_transform(df)\n",
    "df_processed.head(3)"
   ]
  },
  {
   "attachments": {},
   "cell_type": "markdown",
   "id": "70b0a47c",
   "metadata": {},
   "source": [
    "Ah, way better and not too cluttered."
   ]
  },
  {
   "attachments": {},
   "cell_type": "markdown",
   "id": "1283cb6f",
   "metadata": {},
   "source": [
    "## Multi-step forecasting: Direct approach!\n",
    "- Split train-test first"
   ]
  },
  {
   "cell_type": "code",
   "execution_count": 19,
   "id": "5c863406",
   "metadata": {},
   "outputs": [
    {
     "data": {
      "text/html": [
       "<div>\n",
       "<style scoped>\n",
       "    .dataframe tbody tr th:only-of-type {\n",
       "        vertical-align: middle;\n",
       "    }\n",
       "\n",
       "    .dataframe tbody tr th {\n",
       "        vertical-align: top;\n",
       "    }\n",
       "\n",
       "    .dataframe thead th {\n",
       "        text-align: right;\n",
       "    }\n",
       "</style>\n",
       "<table border=\"1\" class=\"dataframe\">\n",
       "  <thead>\n",
       "    <tr style=\"text-align: right;\">\n",
       "      <th></th>\n",
       "      <th>co_sensor</th>\n",
       "      <th>humidity</th>\n",
       "    </tr>\n",
       "    <tr>\n",
       "      <th>date_time</th>\n",
       "      <th></th>\n",
       "      <th></th>\n",
       "    </tr>\n",
       "  </thead>\n",
       "  <tbody>\n",
       "    <tr>\n",
       "      <th>2004-04-04 00:00:00</th>\n",
       "      <td>1224.0</td>\n",
       "      <td>56.5</td>\n",
       "    </tr>\n",
       "    <tr>\n",
       "      <th>2004-04-04 01:00:00</th>\n",
       "      <td>1215.0</td>\n",
       "      <td>59.2</td>\n",
       "    </tr>\n",
       "    <tr>\n",
       "      <th>2004-04-04 02:00:00</th>\n",
       "      <td>1115.0</td>\n",
       "      <td>62.4</td>\n",
       "    </tr>\n",
       "    <tr>\n",
       "      <th>2004-04-04 03:00:00</th>\n",
       "      <td>1124.0</td>\n",
       "      <td>65.0</td>\n",
       "    </tr>\n",
       "    <tr>\n",
       "      <th>2004-04-04 04:00:00</th>\n",
       "      <td>1028.0</td>\n",
       "      <td>65.3</td>\n",
       "    </tr>\n",
       "    <tr>\n",
       "      <th>...</th>\n",
       "      <td>...</td>\n",
       "      <td>...</td>\n",
       "    </tr>\n",
       "    <tr>\n",
       "      <th>2005-03-03 19:00:00</th>\n",
       "      <td>1473.0</td>\n",
       "      <td>82.4</td>\n",
       "    </tr>\n",
       "    <tr>\n",
       "      <th>2005-03-03 20:00:00</th>\n",
       "      <td>1396.0</td>\n",
       "      <td>84.0</td>\n",
       "    </tr>\n",
       "    <tr>\n",
       "      <th>2005-03-03 21:00:00</th>\n",
       "      <td>1285.0</td>\n",
       "      <td>83.6</td>\n",
       "    </tr>\n",
       "    <tr>\n",
       "      <th>2005-03-03 22:00:00</th>\n",
       "      <td>1206.0</td>\n",
       "      <td>82.5</td>\n",
       "    </tr>\n",
       "    <tr>\n",
       "      <th>2005-03-03 23:00:00</th>\n",
       "      <td>1179.0</td>\n",
       "      <td>82.0</td>\n",
       "    </tr>\n",
       "  </tbody>\n",
       "</table>\n",
       "<p>7110 rows × 2 columns</p>\n",
       "</div>"
      ],
      "text/plain": [
       "                     co_sensor  humidity\n",
       "date_time                               \n",
       "2004-04-04 00:00:00     1224.0      56.5\n",
       "2004-04-04 01:00:00     1215.0      59.2\n",
       "2004-04-04 02:00:00     1115.0      62.4\n",
       "2004-04-04 03:00:00     1124.0      65.0\n",
       "2004-04-04 04:00:00     1028.0      65.3\n",
       "...                        ...       ...\n",
       "2005-03-03 19:00:00     1473.0      82.4\n",
       "2005-03-03 20:00:00     1396.0      84.0\n",
       "2005-03-03 21:00:00     1285.0      83.6\n",
       "2005-03-03 22:00:00     1206.0      82.5\n",
       "2005-03-03 23:00:00     1179.0      82.0\n",
       "\n",
       "[7110 rows x 2 columns]"
      ]
     },
     "execution_count": 19,
     "metadata": {},
     "output_type": "execute_result"
    }
   ],
   "source": [
    "X_train = df[df.index < \"2005-03-04\"]\n",
    "X_train"
   ]
  },
  {
   "cell_type": "code",
   "execution_count": null,
   "id": "378dc7b0",
   "metadata": {},
   "outputs": [],
   "source": [
    "aa\n",
    "# input data\n",
    "X_train = df[df.index < \"2005-03-04\"]\n",
    "X_test = df[df.index >= pd.Timestamp(\"2005-03-04\") - pd.offsets.Hour(24)]\n",
    "\n",
    "# target\n",
    "y_train = df[df.index < \"2005-03-04\"][TARGET_COL]\n",
    "y_test = df[df.index >= pd.Timestamp(\"2005-03-04\") - pd.offsets.Hour(24)][\n",
    "    \"CO_sensor\"\n",
    "]"
   ]
  },
  {
   "cell_type": "code",
   "execution_count": null,
   "id": "05dd61df",
   "metadata": {},
   "outputs": [],
   "source": []
  },
  {
   "cell_type": "code",
   "execution_count": null,
   "id": "d560834d",
   "metadata": {},
   "outputs": [],
   "source": []
  },
  {
   "cell_type": "code",
   "execution_count": null,
   "id": "86ce1dcb",
   "metadata": {},
   "outputs": [],
   "source": []
  },
  {
   "attachments": {},
   "cell_type": "markdown",
   "id": "7ed895de",
   "metadata": {},
   "source": [
    "## Analyze data\n",
    "- Make yourselves familiar with the data. This one doesn't have too many pitfalls.. hopefully.\n",
    "- Do we have missing data?\n",
    "- Can we see some obvious seasonal pattern? If so, what could be the reason for this?"
   ]
  },
  {
   "cell_type": "code",
   "execution_count": 19,
   "id": "e7f1c22f",
   "metadata": {},
   "outputs": [
    {
     "data": {
      "text/plain": [
       "Ellipsis"
      ]
     },
     "execution_count": 19,
     "metadata": {},
     "output_type": "execute_result"
    }
   ],
   "source": [
    "..."
   ]
  },
  {
   "attachments": {},
   "cell_type": "markdown",
   "id": "f533a620",
   "metadata": {},
   "source": [
    "## Feature engineering\n",
    "- Create some features that you think might be useful for forecasting\n",
    "- Do we need to do some more pre-processing?"
   ]
  },
  {
   "cell_type": "code",
   "execution_count": 20,
   "id": "8b44e670",
   "metadata": {},
   "outputs": [
    {
     "data": {
      "text/plain": [
       "Ellipsis"
      ]
     },
     "execution_count": 20,
     "metadata": {},
     "output_type": "execute_result"
    }
   ],
   "source": [
    "..."
   ]
  },
  {
   "attachments": {},
   "cell_type": "markdown",
   "id": "60fc9f8a",
   "metadata": {},
   "source": [
    "## Train-test split\n",
    "- Split the data into train- and test sets according to the SPLIT_DATE parameter defined above\n"
   ]
  },
  {
   "cell_type": "code",
   "execution_count": 21,
   "id": "71ac3b11",
   "metadata": {},
   "outputs": [
    {
     "data": {
      "text/plain": [
       "Ellipsis"
      ]
     },
     "execution_count": 21,
     "metadata": {},
     "output_type": "execute_result"
    }
   ],
   "source": [
    "..."
   ]
  },
  {
   "attachments": {},
   "cell_type": "markdown",
   "id": "8fc89b35",
   "metadata": {},
   "source": [
    "## Build models and forecast!\n",
    "- Fit the processed training data \n",
    "- Predict for the test set\n",
    "- Calculate the usual metrics\n",
    "  - How good is your forecast? Compare a naive baseline model with something more sophisticated.\n",
    "  - What metric is the most appropriate here?\n",
    "  - Can you manage to beat my own forecast? (We will have a little competition here) &#x1F6A8;\n",
    "\n",
    "Good luck!"
   ]
  },
  {
   "cell_type": "code",
   "execution_count": 22,
   "id": "0bfcfe1f",
   "metadata": {},
   "outputs": [
    {
     "data": {
      "text/plain": [
       "Ellipsis"
      ]
     },
     "execution_count": 22,
     "metadata": {},
     "output_type": "execute_result"
    }
   ],
   "source": [
    "..."
   ]
  },
  {
   "cell_type": "code",
   "execution_count": null,
   "id": "5c7b7f96",
   "metadata": {},
   "outputs": [],
   "source": []
  }
 ],
 "metadata": {
  "kernelspec": {
   "display_name": "Python 3 (ipykernel)",
   "language": "python",
   "name": "python3"
  },
  "language_info": {
   "codemirror_mode": {
    "name": "ipython",
    "version": 3
   },
   "file_extension": ".py",
   "mimetype": "text/x-python",
   "name": "python",
   "nbconvert_exporter": "python",
   "pygments_lexer": "ipython3",
   "version": "3.9.16"
  }
 },
 "nbformat": 4,
 "nbformat_minor": 5
}
